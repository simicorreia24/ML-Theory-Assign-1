{
 "cells": [
  {
   "cell_type": "markdown",
   "id": "375c4140",
   "metadata": {},
   "source": [
    "## 1. What does one mean by the term &quot;machine learning&quot;?"
   ]
  },
  {
   "cell_type": "code",
   "execution_count": 1,
   "id": "ff856f4a",
   "metadata": {},
   "outputs": [],
   "source": [
    "# Machine learning is the concept that a computer program can learn and adapt to new data without human \n",
    "# intervention. Machine learning is a field of artificial intelligence (AI) that keeps a computer's \n",
    "# built-in algorithms current regardless of changes in the worldwide economy."
   ]
  },
  {
   "cell_type": "markdown",
   "id": "e0617483",
   "metadata": {},
   "source": [
    "## 2.Can you think of 4 distinct types of issues where it shines?"
   ]
  },
  {
   "cell_type": "code",
   "execution_count": 2,
   "id": "01bb5739",
   "metadata": {},
   "outputs": [],
   "source": [
    "# Four main challenges in Machine Learning include \n",
    "# overfitting the data (using a model too complicated), \n",
    "# underfitting the data (using a simple model), \n",
    "# lacking in data and nonrepresentative data."
   ]
  },
  {
   "cell_type": "markdown",
   "id": "62fa99a4",
   "metadata": {},
   "source": [
    "## 3.What is a labeled training set, and how does it work?"
   ]
  },
  {
   "cell_type": "code",
   "execution_count": 3,
   "id": "fa1ee265",
   "metadata": {},
   "outputs": [],
   "source": [
    "# You split up the data containing known response variable values into two pieces.\n",
    "# The training set is used to train the algorithm, and then you use the trained model on the test set to \n",
    "# predict the response variable values that are already known"
   ]
  },
  {
   "cell_type": "markdown",
   "id": "96f8418b",
   "metadata": {},
   "source": [
    "## 4.What are the two most important tasks that are supervised?"
   ]
  },
  {
   "cell_type": "code",
   "execution_count": 4,
   "id": "e2e03aa3",
   "metadata": {},
   "outputs": [],
   "source": [
    "# The two most common supervised learning tasks are regression and classification. \n",
    "# In a regression problem we our prediciton is a scalar value."
   ]
  },
  {
   "cell_type": "markdown",
   "id": "b39176ee",
   "metadata": {},
   "source": [
    "## 5.Can you think of four examples of unsupervised tasks?"
   ]
  },
  {
   "cell_type": "code",
   "execution_count": 5,
   "id": "3eaed6b8",
   "metadata": {},
   "outputs": [],
   "source": [
    "# Common unsupervised tasks include clustering, visualization, dimensionality reduction,\n",
    "# and association rule learning."
   ]
  },
  {
   "cell_type": "markdown",
   "id": "8ee88ff2",
   "metadata": {},
   "source": [
    "## 6.State the machine learning model that would be best to make a robot walk through various unfamiliar terrains?"
   ]
  },
  {
   "cell_type": "code",
   "execution_count": 6,
   "id": "7c9f438f",
   "metadata": {},
   "outputs": [],
   "source": [
    "# The best Machine Learning algorithm to allow a robot to walk in unknown terrain is Reinforced Learning,\n",
    "# where the robot can learn from response of the terrain to optimize itself."
   ]
  },
  {
   "cell_type": "markdown",
   "id": "1a549311",
   "metadata": {},
   "source": [
    "## 7.Which algorithm will you use to divide your customers into different groups?"
   ]
  },
  {
   "cell_type": "code",
   "execution_count": 7,
   "id": "a6f162b3",
   "metadata": {},
   "outputs": [],
   "source": [
    "# The k-means clustering algorithm K-means clustering is a machine learning algorithm that arranges unlabeled \n",
    "# data points around a specific number of clusters"
   ]
  },
  {
   "cell_type": "markdown",
   "id": "e8e99ea2",
   "metadata": {},
   "source": [
    "## 8.Will you consider the problem of spam detection to be a supervised or unsupervised learning problem?"
   ]
  },
  {
   "cell_type": "code",
   "execution_count": 8,
   "id": "341b9958",
   "metadata": {},
   "outputs": [],
   "source": [
    "# Spam detection is a supervised learning problem because the labels are known (spam or no spam)."
   ]
  },
  {
   "cell_type": "markdown",
   "id": "7628f035",
   "metadata": {},
   "source": [
    "## 9.What is the concept of an online learning system?"
   ]
  },
  {
   "cell_type": "code",
   "execution_count": 9,
   "id": "4fd9ec19",
   "metadata": {},
   "outputs": [],
   "source": [
    "# Online machine learning is a method of machine learning in which data becomes available in a sequential order\n",
    "# and is used to update the best predictor for future data at each step, as opposed to batch learning techniques\n",
    "# which generate the best predictor by learning on the entire training data set"
   ]
  },
  {
   "cell_type": "markdown",
   "id": "9ef0be73",
   "metadata": {},
   "source": [
    "## 10.What is out-of-core learning, and how does it differ from core learning?"
   ]
  },
  {
   "cell_type": "code",
   "execution_count": 10,
   "id": "d01b9b90",
   "metadata": {},
   "outputs": [],
   "source": [
    "# Out-of-core learning refers to a set of algorithms working with data that cannot fit into the memory\n",
    "# of a single computer, but that can easily fit into some data storage such as a local hard disk or web repository."
   ]
  },
  {
   "cell_type": "markdown",
   "id": "d967192d",
   "metadata": {},
   "source": [
    "## 11.What kind of learning algorithm makes predictions using a similarity measure?"
   ]
  },
  {
   "cell_type": "code",
   "execution_count": 11,
   "id": "be088ddf",
   "metadata": {},
   "outputs": [],
   "source": [
    "# Learning algorithm that relies on a similarity measure to make predictions is instance-based algorithm."
   ]
  },
  {
   "cell_type": "markdown",
   "id": "4da035e9",
   "metadata": {},
   "source": [
    "## 12.What&#39;s the difference between a model parameter and a hyperparameter in a learning algorithm?"
   ]
  },
  {
   "cell_type": "code",
   "execution_count": 12,
   "id": "8a8f96cc",
   "metadata": {},
   "outputs": [],
   "source": [
    "# Model parameters are estimated based on the data during model training and model hyperparameters are set\n",
    "# manually and are used in processes to help estimate model parameters. Model hyperparameters are often \n",
    "# referred to as parameters because they are the parts of the machine learning that must be set manually and tuned."
   ]
  },
  {
   "cell_type": "markdown",
   "id": "8ab3f704",
   "metadata": {},
   "source": [
    "## 13.What are the criteria that model-based learning algorithms look for? What is the most popular method they use to achieve success? What method do they use to make predictions?"
   ]
  },
  {
   "cell_type": "code",
   "execution_count": 13,
   "id": "09635876",
   "metadata": {},
   "outputs": [],
   "source": [
    "# The goal for a model-based algorithm is to be able to generalize to new examples. To do this, model based \n",
    "# algorithms search for optimal values for the model's parameters, often called theta . \n",
    "# This searching, or \"learning\", is what machine learning is all about."
   ]
  },
  {
   "cell_type": "markdown",
   "id": "bd54a946",
   "metadata": {},
   "source": [
    "## 14.Can you name four of the most important Machine Learning challenges?"
   ]
  },
  {
   "cell_type": "code",
   "execution_count": 14,
   "id": "6b022bbc",
   "metadata": {},
   "outputs": [],
   "source": [
    "# Four main challenges in Machine Learning include overfitting the data (using a model too complicated), \n",
    "# underfitting the data (using a simple model), lacking in data and nonrepresentative data"
   ]
  },
  {
   "cell_type": "markdown",
   "id": "f6b1b5d7",
   "metadata": {},
   "source": [
    "## 15.What happens if the model performs well on the training data but fails to generalize the results to new situations? Can you think of three different options?"
   ]
  },
  {
   "cell_type": "code",
   "execution_count": 15,
   "id": "955bbfb5",
   "metadata": {},
   "outputs": [],
   "source": [
    "# Representative training data is also key: If your training data doesn't reflect the actual datasets your model\n",
    "# will encounter, you may end up with a model that won't perform once you've reached testing or production.\n",
    "# Another issue that can occur during training is overfitting and underfitting."
   ]
  },
  {
   "cell_type": "markdown",
   "id": "a02dec47",
   "metadata": {},
   "source": [
    "## 16.What exactly is a test set, and why would you need one?"
   ]
  },
  {
   "cell_type": "code",
   "execution_count": 16,
   "id": "3966be23",
   "metadata": {},
   "outputs": [],
   "source": [
    "# The test set is a separate set of data used to test the model after completing the training. \n",
    "# It provides an unbiased final model performance metric in terms of accuracy, precision, etc"
   ]
  },
  {
   "cell_type": "markdown",
   "id": "4df54e9b",
   "metadata": {},
   "source": [
    "## 17.What is a validation set&#39;s purpose?"
   ]
  },
  {
   "cell_type": "code",
   "execution_count": 17,
   "id": "c9b4bd3a",
   "metadata": {},
   "outputs": [],
   "source": [
    "# A validation set is a set of data used to train artificial intelligence (AI) with the goal of finding and\n",
    "# optimizing the best model to solve a given problem. Validation sets are also known as dev sets.\n",
    "# A supervised AI is trained on a corpus of training data."
   ]
  },
  {
   "cell_type": "markdown",
   "id": "c25359a5",
   "metadata": {},
   "source": [
    "## 18.What precisely is the train-dev kit, when will you need it, how do you put it to use?"
   ]
  },
  {
   "cell_type": "code",
   "execution_count": 18,
   "id": "bedda35d",
   "metadata": {},
   "outputs": [],
   "source": [
    "# The goal of dev-set is to rank the models in term of their accuracy and helps us decide which model to proceed \n",
    "# further with. Using Dev set we rank all our models in terms of their accuracy and pick the best performing model."
   ]
  },
  {
   "cell_type": "markdown",
   "id": "206a1b7f",
   "metadata": {},
   "source": [
    "## 19.What could go wrong if you use the test set to tune hyperparameters?"
   ]
  },
  {
   "cell_type": "code",
   "execution_count": 19,
   "id": "55d5ea94",
   "metadata": {},
   "outputs": [],
   "source": [
    "# If you use the same set as training and validation set, you have the risk that you choose (hyper-)parameters \n",
    "# that model well this set - however, you cannot say that you measure its performance on unseen data /\n",
    "# its generalisation performance."
   ]
  }
 ],
 "metadata": {
  "kernelspec": {
   "display_name": "Python 3 (ipykernel)",
   "language": "python",
   "name": "python3"
  },
  "language_info": {
   "codemirror_mode": {
    "name": "ipython",
    "version": 3
   },
   "file_extension": ".py",
   "mimetype": "text/x-python",
   "name": "python",
   "nbconvert_exporter": "python",
   "pygments_lexer": "ipython3",
   "version": "3.9.7"
  }
 },
 "nbformat": 4,
 "nbformat_minor": 5
}
